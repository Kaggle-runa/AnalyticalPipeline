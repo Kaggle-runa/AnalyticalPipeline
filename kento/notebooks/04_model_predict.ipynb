{
 "cells": [
  {
   "cell_type": "markdown",
   "metadata": {},
   "source": [
    "02で前処理をしたデータの読み込みと03で学習したモデルを使って推論を行うためのnotebookです。  "
   ]
  },
  {
   "cell_type": "markdown",
   "metadata": {},
   "source": [
    "## 必要なライブラリのimport"
   ]
  },
  {
   "cell_type": "code",
   "execution_count": 2,
   "metadata": {},
   "outputs": [],
   "source": [
    "import numpy as np\n",
    "import pandas as pd\n",
    "import lightgbm as lgb\n",
    "from sklearn.metrics import mean_squared_error\n",
    "import pickle"
   ]
  },
  {
   "cell_type": "code",
   "execution_count": 3,
   "metadata": {},
   "outputs": [],
   "source": [
    "# 予測したいデータの読み込み\n",
    "test = pd.read_csv('../data/processed/processed20240614_test.csv')"
   ]
  },
  {
   "cell_type": "markdown",
   "metadata": {},
   "source": [
    "## 保存されたモデルを使って予測を行う"
   ]
  },
  {
   "cell_type": "code",
   "execution_count": 7,
   "metadata": {},
   "outputs": [],
   "source": [
    "n_folds = 5\n",
    "predictions = np.zeros(len(test))\n",
    "features = [c for c in test.columns if c not in ['card_id', 'first_active_month']]\n",
    "\n",
    "for fold_ in range(n_folds):\n",
    "    # モデルを読み込む\n",
    "    with open(f'../src/models/model_fold_{fold_}.pkl', 'rb') as f:\n",
    "        clf = pickle.load(f)\n",
    "    \n",
    "    # モデルで予測を行う\n",
    "    fold_predictions = clf.predict(test[features])\n",
    "    \n",
    "    # 予測結果を足し合わせる\n",
    "    predictions += fold_predictions\n",
    "\n",
    "# 平均を取る\n",
    "predictions /= n_folds\n",
    "\n",
    "# RMSEを計算する（テストデータに対して真の値がある場合）\n",
    "# y_testが存在する場合に限り\n",
    "if 'y_test' in locals():\n",
    "    score = mean_squared_error(y_test, predictions, squared=False)\n",
    "    print(f'RMSE={score}')"
   ]
  },
  {
   "cell_type": "code",
   "execution_count": 8,
   "metadata": {},
   "outputs": [
    {
     "name": "stdout",
     "output_type": "stream",
     "text": [
      "[-4.59250362 -0.36586941 -1.44749027 ...  0.905161   -4.95734498\n",
      "  0.1483793 ]\n"
     ]
    }
   ],
   "source": [
    "# 予測結果を出力する\n",
    "print(predictions)"
   ]
  },
  {
   "cell_type": "markdown",
   "metadata": {},
   "source": [
    "## 提出用ファイルの作成"
   ]
  },
  {
   "cell_type": "code",
   "execution_count": 9,
   "metadata": {},
   "outputs": [],
   "source": [
    "sub_df = pd.DataFrame({\"card_id\":test[\"card_id\"].values})\n",
    "sub_df[\"target\"] = predictions\n",
    "sub_df.to_csv(\"submit.csv\", index=False)"
   ]
  }
 ],
 "metadata": {
  "kernelspec": {
   "display_name": "Python 3",
   "language": "python",
   "name": "python3"
  },
  "language_info": {
   "codemirror_mode": {
    "name": "ipython",
    "version": 3
   },
   "file_extension": ".py",
   "mimetype": "text/x-python",
   "name": "python",
   "nbconvert_exporter": "python",
   "pygments_lexer": "ipython3",
   "version": "3.10.11"
  }
 },
 "nbformat": 4,
 "nbformat_minor": 2
}
